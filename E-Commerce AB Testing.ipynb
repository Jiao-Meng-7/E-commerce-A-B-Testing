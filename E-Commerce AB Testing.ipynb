{
 "cells": [
  {
   "cell_type": "code",
   "execution_count": 1,
   "id": "3d545695",
   "metadata": {},
   "outputs": [],
   "source": [
    "#load packages:\n",
    "import pandas as pd\n",
    "import numpy as np\n",
    "import scipy.stats as ss\n",
    "import math as mt\n",
    "import itertools"
   ]
  },
  {
   "cell_type": "code",
   "execution_count": 2,
   "id": "0a0e40f0",
   "metadata": {},
   "outputs": [
    {
     "data": {
      "text/html": [
       "<div>\n",
       "<style scoped>\n",
       "    .dataframe tbody tr th:only-of-type {\n",
       "        vertical-align: middle;\n",
       "    }\n",
       "\n",
       "    .dataframe tbody tr th {\n",
       "        vertical-align: top;\n",
       "    }\n",
       "\n",
       "    .dataframe thead th {\n",
       "        text-align: right;\n",
       "    }\n",
       "</style>\n",
       "<table border=\"1\" class=\"dataframe\">\n",
       "  <thead>\n",
       "    <tr style=\"text-align: right;\">\n",
       "      <th></th>\n",
       "      <th>user_id</th>\n",
       "      <th>timestamp</th>\n",
       "      <th>group</th>\n",
       "      <th>landing_page</th>\n",
       "      <th>converted</th>\n",
       "    </tr>\n",
       "  </thead>\n",
       "  <tbody>\n",
       "    <tr>\n",
       "      <th>0</th>\n",
       "      <td>851104</td>\n",
       "      <td>2017-01-21 22:11:48.556739</td>\n",
       "      <td>control</td>\n",
       "      <td>old_page</td>\n",
       "      <td>0</td>\n",
       "    </tr>\n",
       "    <tr>\n",
       "      <th>1</th>\n",
       "      <td>804228</td>\n",
       "      <td>2017-01-12 08:01:45.159739</td>\n",
       "      <td>control</td>\n",
       "      <td>old_page</td>\n",
       "      <td>0</td>\n",
       "    </tr>\n",
       "    <tr>\n",
       "      <th>2</th>\n",
       "      <td>661590</td>\n",
       "      <td>2017-01-11 16:55:06.154213</td>\n",
       "      <td>treatment</td>\n",
       "      <td>new_page</td>\n",
       "      <td>0</td>\n",
       "    </tr>\n",
       "    <tr>\n",
       "      <th>3</th>\n",
       "      <td>853541</td>\n",
       "      <td>2017-01-08 18:28:03.143765</td>\n",
       "      <td>treatment</td>\n",
       "      <td>new_page</td>\n",
       "      <td>0</td>\n",
       "    </tr>\n",
       "    <tr>\n",
       "      <th>4</th>\n",
       "      <td>864975</td>\n",
       "      <td>2017-01-21 01:52:26.210827</td>\n",
       "      <td>control</td>\n",
       "      <td>old_page</td>\n",
       "      <td>1</td>\n",
       "    </tr>\n",
       "  </tbody>\n",
       "</table>\n",
       "</div>"
      ],
      "text/plain": [
       "   user_id                   timestamp      group landing_page  converted\n",
       "0   851104  2017-01-21 22:11:48.556739    control     old_page          0\n",
       "1   804228  2017-01-12 08:01:45.159739    control     old_page          0\n",
       "2   661590  2017-01-11 16:55:06.154213  treatment     new_page          0\n",
       "3   853541  2017-01-08 18:28:03.143765  treatment     new_page          0\n",
       "4   864975  2017-01-21 01:52:26.210827    control     old_page          1"
      ]
     },
     "execution_count": 2,
     "metadata": {},
     "output_type": "execute_result"
    }
   ],
   "source": [
    "#let's have a look at our dataset:\n",
    "file_path = r\"C:\\Users\\jiao_\\Desktop\\ab_data.csv\"\n",
    "data = pd.read_csv(file_path)\n",
    "df = data.copy()\n",
    "df.head()"
   ]
  },
  {
   "cell_type": "code",
   "execution_count": 3,
   "id": "5b863404",
   "metadata": {},
   "outputs": [
    {
     "name": "stdout",
     "output_type": "stream",
     "text": [
      "<class 'pandas.core.frame.DataFrame'>\n",
      "RangeIndex: 294478 entries, 0 to 294477\n",
      "Data columns (total 5 columns):\n",
      " #   Column        Non-Null Count   Dtype \n",
      "---  ------        --------------   ----- \n",
      " 0   user_id       294478 non-null  int64 \n",
      " 1   timestamp     294478 non-null  object\n",
      " 2   group         294478 non-null  object\n",
      " 3   landing_page  294478 non-null  object\n",
      " 4   converted     294478 non-null  int64 \n",
      "dtypes: int64(2), object(3)\n",
      "memory usage: 11.2+ MB\n",
      "(294478, 5)\n"
     ]
    }
   ],
   "source": [
    "df.info()\n",
    "print(df.shape)"
   ]
  },
  {
   "cell_type": "markdown",
   "id": "5b78cfc0",
   "metadata": {},
   "source": [
    "Data Cleaning"
   ]
  },
  {
   "cell_type": "code",
   "execution_count": 4,
   "id": "9ae479b6",
   "metadata": {},
   "outputs": [
    {
     "data": {
      "text/plain": [
       "290584"
      ]
     },
     "execution_count": 4,
     "metadata": {},
     "output_type": "execute_result"
    }
   ],
   "source": [
    "#analyse data      unique user's conversion rates given their unique landing page\n",
    "df['user_id'].nunique()"
   ]
  },
  {
   "cell_type": "code",
   "execution_count": 5,
   "id": "c847cb54",
   "metadata": {},
   "outputs": [],
   "source": [
    "#Locate where treatment does not match with new_page or control does not match with old_page, and drop these rows\n",
    "i = df[((df['group']=='treatment') ==(df['landing_page']=='new_page')) == False].index\n",
    "df2 = df.drop(i)"
   ]
  },
  {
   "cell_type": "code",
   "execution_count": 6,
   "id": "3fcda7a2",
   "metadata": {},
   "outputs": [
    {
     "data": {
      "text/plain": [
       "290585"
      ]
     },
     "execution_count": 6,
     "metadata": {},
     "output_type": "execute_result"
    }
   ],
   "source": [
    "df2.shape[0]"
   ]
  },
  {
   "cell_type": "code",
   "execution_count": 7,
   "id": "f8f92f07",
   "metadata": {},
   "outputs": [
    {
     "data": {
      "text/html": [
       "<div>\n",
       "<style scoped>\n",
       "    .dataframe tbody tr th:only-of-type {\n",
       "        vertical-align: middle;\n",
       "    }\n",
       "\n",
       "    .dataframe tbody tr th {\n",
       "        vertical-align: top;\n",
       "    }\n",
       "\n",
       "    .dataframe thead th {\n",
       "        text-align: right;\n",
       "    }\n",
       "</style>\n",
       "<table border=\"1\" class=\"dataframe\">\n",
       "  <thead>\n",
       "    <tr style=\"text-align: right;\">\n",
       "      <th></th>\n",
       "      <th>user_id</th>\n",
       "      <th>timestamp</th>\n",
       "      <th>group</th>\n",
       "      <th>landing_page</th>\n",
       "      <th>converted</th>\n",
       "    </tr>\n",
       "  </thead>\n",
       "  <tbody>\n",
       "    <tr>\n",
       "      <th>1899</th>\n",
       "      <td>773192</td>\n",
       "      <td>2017-01-09 05:37:58.781806</td>\n",
       "      <td>treatment</td>\n",
       "      <td>new_page</td>\n",
       "      <td>0</td>\n",
       "    </tr>\n",
       "    <tr>\n",
       "      <th>2893</th>\n",
       "      <td>773192</td>\n",
       "      <td>2017-01-14 02:55:59.590927</td>\n",
       "      <td>treatment</td>\n",
       "      <td>new_page</td>\n",
       "      <td>0</td>\n",
       "    </tr>\n",
       "  </tbody>\n",
       "</table>\n",
       "</div>"
      ],
      "text/plain": [
       "      user_id                   timestamp      group landing_page  converted\n",
       "1899   773192  2017-01-09 05:37:58.781806  treatment     new_page          0\n",
       "2893   773192  2017-01-14 02:55:59.590927  treatment     new_page          0"
      ]
     },
     "execution_count": 7,
     "metadata": {},
     "output_type": "execute_result"
    }
   ],
   "source": [
    "#If the number of unique rows is 1 greater than the number of unique users, then we have a duplicate user somewhere. We'll find the duplicate row first:\n",
    "df2[df2.duplicated(['user_id'], keep=False)]"
   ]
  },
  {
   "cell_type": "code",
   "execution_count": 8,
   "id": "8638b5da",
   "metadata": {},
   "outputs": [],
   "source": [
    "#drop duplicate:\n",
    "df2.drop_duplicates(subset ='user_id',keep ='first',inplace = True)"
   ]
  },
  {
   "cell_type": "markdown",
   "id": "258eb7ef",
   "metadata": {},
   "source": [
    "Probabilities"
   ]
  },
  {
   "cell_type": "code",
   "execution_count": 9,
   "id": "f8446cf0",
   "metadata": {},
   "outputs": [
    {
     "data": {
      "text/plain": [
       "0.11959708724499628"
      ]
     },
     "execution_count": 9,
     "metadata": {},
     "output_type": "execute_result"
    }
   ],
   "source": [
    "#total/pooled probability of conversion:\n",
    "P_pool = (df2.query('converted == 1').converted.count())/df2.shape[0]\n",
    "P_pool"
   ]
  },
  {
   "cell_type": "code",
   "execution_count": 10,
   "id": "c0422b89",
   "metadata": {},
   "outputs": [
    {
     "data": {
      "text/plain": [
       "0.1203863045004612"
      ]
     },
     "execution_count": 10,
     "metadata": {},
     "output_type": "execute_result"
    }
   ],
   "source": [
    "#probability of conversion given a user was in the control group:\n",
    "control_df = df2.query('group ==\"control\"')\n",
    "P_old = control_df['converted'].mean()\n",
    "P_old"
   ]
  },
  {
   "cell_type": "code",
   "execution_count": 11,
   "id": "67d969a9",
   "metadata": {},
   "outputs": [
    {
     "data": {
      "text/plain": [
       "0.11880806551510564"
      ]
     },
     "execution_count": 11,
     "metadata": {},
     "output_type": "execute_result"
    }
   ],
   "source": [
    "#probability of conversion given a user was in the treatment group:\n",
    "treatment_df = df2.query('group ==\"treatment\"')\n",
    "P_new = treatment_df['converted'].mean()\n",
    "P_new"
   ]
  },
  {
   "cell_type": "markdown",
   "id": "850abbfc",
   "metadata": {},
   "source": [
    "We can quickly observe that our new page isn't doing too hot on conversion improvement. In fact, it's doing slightly worse than the control group!\n",
    "\n",
    "Hypothetically we could end the test here, but there are a few checks and measures we must do before and after an A/B test to ensure our experiment as run properly."
   ]
  },
  {
   "cell_type": "code",
   "execution_count": 12,
   "id": "436168ee",
   "metadata": {},
   "outputs": [
    {
     "data": {
      "text/plain": [
       "(0.4999380557773312, 0.5000619442226688)"
      ]
     },
     "execution_count": 12,
     "metadata": {},
     "output_type": "execute_result"
    }
   ],
   "source": [
    "#proportion of users seeing the new vs old page:\n",
    "N_new = df2.query('landing_page == \"new_page\"').landing_page.count()\n",
    "N_old = df2.query('landing_page == \"old_page\"').landing_page.count()\n",
    "proportion = (N_old/df2.shape[0],N_new/df2.shape[0])\n",
    "proportion"
   ]
  },
  {
   "cell_type": "code",
   "execution_count": 13,
   "id": "ad1ae102",
   "metadata": {},
   "outputs": [],
   "source": [
    "#function for getting z-scores for alpha. For our experiemnt where alpha = 5%, keep in mind we want to input 1-alpha/2 for Confidence Intervals.\n",
    "def get_z_score(alpha):\n",
    "    return ss.norm.ppf(alpha)"
   ]
  },
  {
   "cell_type": "code",
   "execution_count": 14,
   "id": "1a01db80",
   "metadata": {},
   "outputs": [
    {
     "name": "stdout",
     "output_type": "stream",
     "text": [
      "Does the control group proportion 0.4999380557773312 lie within (0.49823603241391395, 0.5017639675860861)?\n"
     ]
    }
   ],
   "source": [
    "#Guardrail Check on differences in proportions:\n",
    "sd = round(mt.sqrt((0.5*(1-0.5))/df2.shape[0]),4)\n",
    "CI = (0.5 - sd*get_z_score(1-0.05/2), 0.5 + sd*get_z_score(1-0.05/2))\n",
    "print('Does the control group proportion ' + str(N_old/df2.shape[0]) + ' lie within ' + str(CI) + '?')"
   ]
  },
  {
   "cell_type": "markdown",
   "id": "da538100",
   "metadata": {},
   "source": [
    "This means that we've passed our Guardrail Metric that the number of unique users is equal for each group."
   ]
  },
  {
   "cell_type": "code",
   "execution_count": 19,
   "id": "03ac152c",
   "metadata": {},
   "outputs": [
    {
     "name": "stdout",
     "output_type": "stream",
     "text": [
      "2719\n"
     ]
    }
   ],
   "source": [
    "import statsmodels.stats.api as sms\n",
    "from math import ceil\n",
    "\n",
    "effect_size = sms.proportion_effectsize(0.12, 0.15)    # Calculating effect size based on our expected rates\n",
    "\n",
    "required_n = sms.NormalIndPower().solve_power(\n",
    "    effect_size, \n",
    "    power=0.9,  #power of a test (defualt is 0.8)\n",
    "    alpha=0.05, #p-value\n",
    "    ratio=1\n",
    "    )                                                  # Calculating sample size needed\n",
    "\n",
    "required_n = ceil(required_n)                          # Rounding up to next whole number                          \n",
    "\n",
    "print(required_n)"
   ]
  },
  {
   "cell_type": "code",
   "execution_count": 15,
   "id": "90ee7124",
   "metadata": {},
   "outputs": [
    {
     "data": {
      "text/plain": [
       "137926.53061224488"
      ]
     },
     "execution_count": 15,
     "metadata": {},
     "output_type": "execute_result"
    }
   ],
   "source": [
    "#1. Using statistical rule of thumb to calculate minimum sample size per variation:\n",
    "16*(0.12*(1-0.12))/pow(0.0035,2)"
   ]
  },
  {
   "cell_type": "code",
   "execution_count": 16,
   "id": "725f4b04",
   "metadata": {},
   "outputs": [],
   "source": [
    "#2.calculating the minimum sample size for the ab test:\n",
    "def get_sampSize(sds,alpha,beta,d):\n",
    "    n=pow((get_z_score(1-alpha/2)*sds[0]+get_z_score(1-beta)*sds[1]),2)/pow(d,2)\n",
    "    return n"
   ]
  },
  {
   "cell_type": "code",
   "execution_count": 17,
   "id": "0bc5a367",
   "metadata": {},
   "outputs": [],
   "source": [
    "#baseline + expected change standard deviation calculations\n",
    "def get_sds(p,d):\n",
    "    sd1=mt.sqrt(2*p*(1-p))\n",
    "    sd2=mt.sqrt(p*(1-p)+(p+d)*(1-(p+d)))\n",
    "    sds=[sd1,sd2]\n",
    "    return sds"
   ]
  },
  {
   "cell_type": "code",
   "execution_count": 18,
   "id": "f862603a",
   "metadata": {},
   "outputs": [
    {
     "data": {
      "text/plain": [
       "135830"
      ]
     },
     "execution_count": 18,
     "metadata": {},
     "output_type": "execute_result"
    }
   ],
   "source": [
    "#2. Using Evan Miller's Calculator but deriving the values ourselves:\n",
    "round(get_sampSize(get_sds(0.12, 0.0035),0.05,0.2,0.0035))"
   ]
  },
  {
   "cell_type": "markdown",
   "id": "df558958",
   "metadata": {},
   "source": [
    "If using Evan Miller's calculator, the minimum sample size per group = 135,830 users/variation. Given we have 2 groups (treatment and control): the total minimum sample size = 271,660 users. Since we have a total sample size of 290,584, our a/b test will have enough statistical power and significance."
   ]
  },
  {
   "cell_type": "code",
   "execution_count": 19,
   "id": "d3aa19a8",
   "metadata": {},
   "outputs": [
    {
     "name": "stdout",
     "output_type": "stream",
     "text": [
      "Do (0.11847266343679363, 0.12229994556412876) and (0.11690554055275011, 0.12071059047746117) overlap?\n"
     ]
    }
   ],
   "source": [
    "CI_old = (P_old - get_z_score(1-0.025/2)*mt.sqrt(P_old*(1-P_old)/N_old),P_old + get_z_score(1-0.025/2)*mt.sqrt(P_old*(1-P_old)/N_old))\n",
    "CI_new = (P_new - get_z_score(1-0.025/2)*mt.sqrt(P_new*(1-P_new)/N_new),P_new + get_z_score(1-0.025/2)*mt.sqrt(P_new*(1-P_new)/N_new))\n",
    "print('Do ' + str(CI_old) + ' and ' + str(CI_new) + ' overlap?') "
   ]
  },
  {
   "cell_type": "markdown",
   "id": "03d8fccb",
   "metadata": {},
   "source": [
    "Both CI intervals overlap plenty as  CInew is completely contained within  CIold, which means we do not reject the Null Hypothesis that  Pnew=Pold."
   ]
  },
  {
   "cell_type": "code",
   "execution_count": 20,
   "id": "e7a002fd",
   "metadata": {},
   "outputs": [],
   "source": [
    "#2. z-test\n",
    "import statsmodels.api as sm\n",
    "#returning the total number of conversions for each group:\n",
    "convert_old = df2.query(\"landing_page == 'old_page' and converted == 1\").shape[0]\n",
    "convert_new = df2.query(\"landing_page == 'new_page' and converted == 1\").shape[0]"
   ]
  },
  {
   "cell_type": "code",
   "execution_count": 21,
   "id": "09c0f1f0",
   "metadata": {},
   "outputs": [
    {
     "data": {
      "text/plain": [
       "(1.3109241984234394, 0.9050583127590245)"
      ]
     },
     "execution_count": 21,
     "metadata": {},
     "output_type": "execute_result"
    }
   ],
   "source": [
    "#calculating the z-score + p-value using the z-test (one-sided):\n",
    "z_score, p_value = sm.stats.proportions_ztest([convert_old, convert_new], [N_old, N_new], alternative='smaller')\n",
    "z_score, p_value"
   ]
  },
  {
   "cell_type": "markdown",
   "id": "96f188b9",
   "metadata": {},
   "source": [
    "Given our p-value ≈ 0.9 > 0.05, we do not reject the Null Hypothesis.\n",
    "\n",
    "This means that the new page is not better than the old page."
   ]
  },
  {
   "cell_type": "code",
   "execution_count": 22,
   "id": "3349293e",
   "metadata": {},
   "outputs": [],
   "source": [
    "SE_new = mt.sqrt(P_new*(1-P_new)/N_new)\n",
    "SE_old = mt.sqrt(P_old*(1-P_old)/N_old)"
   ]
  },
  {
   "cell_type": "code",
   "execution_count": 23,
   "id": "c6c92f5b",
   "metadata": {},
   "outputs": [
    {
     "data": {
      "text/plain": [
       "0.986811599380792"
      ]
     },
     "execution_count": 23,
     "metadata": {},
     "output_type": "execute_result"
    }
   ],
   "source": [
    "p = 1 - ss.f.cdf(pow(SE_new,2)/pow(SE_old,2), N_new - 1, N_old - 1)\n",
    "p"
   ]
  },
  {
   "cell_type": "code",
   "execution_count": null,
   "id": "db083dab",
   "metadata": {},
   "outputs": [],
   "source": []
  }
 ],
 "metadata": {
  "kernelspec": {
   "display_name": "Python 3 (ipykernel)",
   "language": "python",
   "name": "python3"
  },
  "language_info": {
   "codemirror_mode": {
    "name": "ipython",
    "version": 3
   },
   "file_extension": ".py",
   "mimetype": "text/x-python",
   "name": "python",
   "nbconvert_exporter": "python",
   "pygments_lexer": "ipython3",
   "version": "3.11.5"
  }
 },
 "nbformat": 4,
 "nbformat_minor": 5
}
